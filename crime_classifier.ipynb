{
 "cells": [
  {
   "cell_type": "code",
   "execution_count": 1,
   "metadata": {
    "collapsed": true
   },
   "outputs": [],
   "source": [
    "import pandas as pd\n",
    "import numpy as np\n",
    "\n",
    "import matplotlib as mpl\n",
    "import matplotlib.pyplot as plt\n",
    "\n",
    "from sklearn.linear_model import LogisticRegression\n",
    "from sklearn.feature_extraction import DictVectorizer\n",
    "from sklearn.grid_search import GridSearchCV\n",
    "\n",
    "from sklearn.metrics import accuracy_score\n",
    "from sklearn.metrics import log_loss\n",
    "from pandas_confusion import ConfusionMatrix\n",
    "\n",
    "%matplotlib inline"
   ]
  },
  {
   "cell_type": "code",
   "execution_count": 7,
   "metadata": {
    "collapsed": true
   },
   "outputs": [],
   "source": [
    "## feature_names -- DayOfWeek,HourOfDay,Month,PdDistrict,ZipCode, Address, IsIntersection\n",
    "\n",
    "def HourOfDay(df):\n",
    "    ft = df.map(lambda x: x.hour)\n",
    "    feat = pd.cut(ft, bins = [0,3,6,9,12,15,18,21,24], right=False)\n",
    "    feat.name = 'HourOfDay'\n",
    "    return feat\n",
    "\n",
    "def Month(df):\n",
    "    feat = df.map(lambda x: x.strftime(\"%B\"))\n",
    "    feat.name = 'Month'\n",
    "    return feat\n",
    "\n",
    "def Week(df):\n",
    "    count = df.groupby(['Week']).size()\n",
    "    cat_count = df.groupby(['Week', 'Target']).size()\n",
    "    odds = cat_count.div(count, level='Week').reset_index()\n",
    "    odds.columns = ['Week', 'Target', 'Odds']\n",
    "    dfm = df.merge(odds, how='left', on=['Week', 'Target'])\n",
    "    \n",
    "    feat = dfm['Odds']\n",
    "    feat.name = 'Week'\n",
    "    return feat\n",
    "\n",
    "def ZipCode(df):\n",
    "    count = df.groupby(['ZipCode']).size()\n",
    "    cat_count = df.groupby(['ZipCode', 'Target']).size()\n",
    "    odds = cat_count.div(count, level='ZipCode').reset_index()\n",
    "    odds.columns = ['ZipCode', 'Target', 'Odds']\n",
    "    dfm = df.merge(odds, how='left', on=['ZipCode', 'Target'])\n",
    "    \n",
    "    feat = dfm['Odds']\n",
    "    feat.name = 'ZipCode'\n",
    "    return feat\n",
    "\n",
    "def Address(df):\n",
    "    count = df.groupby(['Addressx']).size()\n",
    "    cat_count = df.groupby(['Addressx', 'Target']).size()\n",
    "    odds = cat_count.div(count, level='Addressx').reset_index()\n",
    "    odds.columns = ['Addressx', 'Target', 'Odds']\n",
    "    dfm = df.merge(odds, how='left', on=['Addressx', 'Target'])\n",
    "    \n",
    "    feat = dfm['Odds']\n",
    "    feat.name = 'Address'\n",
    "    return feat\n",
    "\n",
    "def IsIntersection(df):\n",
    "    feat = df.apply(lambda x: 0 if x.find(\"/\") < 0 else 1)\n",
    "    feat.name = 'IsIntersection'\n",
    "    return feat\n",
    "\n",
    "def Lng(df):\n",
    "    minX, maxX = df.min(), df.max()\n",
    "    feat = df.apply(lambda x: (x-minX)/(maxX-minX))\n",
    "    feat.name = 'Lng'\n",
    "    return feat\n",
    "\n",
    "def Lat(df):\n",
    "    minY, maxY = df.min(), df.max()\n",
    "    feat = df.apply(lambda x: (x-minY)/(maxY-minY))\n",
    "    feat.name = 'Lat'\n",
    "    return feat\n",
    "\n",
    "def build_dataset(data):\n",
    "    data['Dates'] = pd.to_datetime(data['Dates'])\n",
    "    data['Week'] = data['Dates'].apply(lambda x: x.isocalendar()[1])\n",
    "    data['Addressx'] = data['Address'].apply(lambda x: x.split(\"of\")[1].strip() if x.find(\"/\") < 0 else x)\n",
    "\n",
    "    features = pd.DataFrame(index=data.index)\n",
    "    features = features.join(data['DayOfWeek'])\n",
    "    features = features.join(HourOfDay(data['Dates']))\n",
    "    features = features.join(Week(data[['Week', 'Target']]))\n",
    "    features = features.join(Month(data['Dates']))\n",
    "    features = features.join(data['PdDistrict'])\n",
    "    features = features.join(ZipCode(data[['ZipCode','Target']]))\n",
    "    features = features.join(Lat(data['Y']))\n",
    "    features = features.join(Lng(data['X']))\n",
    "    ##features = features.join(Address(data[['Addressx', 'Target']]))\n",
    "    features = features.join(IsIntersection(data['Address']))\n",
    "        \n",
    "    return features, data['Target']"
   ]
  },
  {
   "cell_type": "code",
   "execution_count": 3,
   "metadata": {
    "collapsed": false
   },
   "outputs": [],
   "source": [
    "train_data = pd.read_csv('data/train-A.csv', quotechar='\"')\n",
    "test_data  = pd.read_csv('data/train-B.csv', quotechar='\"')"
   ]
  },
  {
   "cell_type": "code",
   "execution_count": 8,
   "metadata": {
    "collapsed": false
   },
   "outputs": [],
   "source": [
    "train_features,y_train  = build_dataset(train_data)\n",
    "test_features,y_test    = build_dataset(test_data)"
   ]
  },
  {
   "cell_type": "code",
   "execution_count": 11,
   "metadata": {
    "collapsed": false
   },
   "outputs": [
    {
     "data": {
      "text/html": [
       "<div>\n",
       "<table border=\"1\" class=\"dataframe\">\n",
       "  <thead>\n",
       "    <tr style=\"text-align: right;\">\n",
       "      <th></th>\n",
       "      <th>DayOfWeek</th>\n",
       "      <th>HourOfDay</th>\n",
       "      <th>Week</th>\n",
       "      <th>Month</th>\n",
       "      <th>PdDistrict</th>\n",
       "      <th>ZipCode</th>\n",
       "      <th>Lat</th>\n",
       "      <th>Lng</th>\n",
       "      <th>Address</th>\n",
       "      <th>IsIntersection</th>\n",
       "    </tr>\n",
       "  </thead>\n",
       "  <tbody>\n",
       "    <tr>\n",
       "      <th>0</th>\n",
       "      <td>Wednesday</td>\n",
       "      <td>[21, 24)</td>\n",
       "      <td>0.048297</td>\n",
       "      <td>May</td>\n",
       "      <td>NORTHERN</td>\n",
       "      <td>0.080916</td>\n",
       "      <td>0.001276</td>\n",
       "      <td>0.043578</td>\n",
       "      <td>0.068966</td>\n",
       "      <td>1</td>\n",
       "    </tr>\n",
       "    <tr>\n",
       "      <th>1</th>\n",
       "      <td>Wednesday</td>\n",
       "      <td>[21, 24)</td>\n",
       "      <td>0.138476</td>\n",
       "      <td>May</td>\n",
       "      <td>NORTHERN</td>\n",
       "      <td>0.166816</td>\n",
       "      <td>0.001276</td>\n",
       "      <td>0.043578</td>\n",
       "      <td>0.241379</td>\n",
       "      <td>1</td>\n",
       "    </tr>\n",
       "    <tr>\n",
       "      <th>2</th>\n",
       "      <td>Wednesday</td>\n",
       "      <td>[21, 24)</td>\n",
       "      <td>0.138476</td>\n",
       "      <td>May</td>\n",
       "      <td>NORTHERN</td>\n",
       "      <td>0.107591</td>\n",
       "      <td>0.001770</td>\n",
       "      <td>0.044337</td>\n",
       "      <td>0.315789</td>\n",
       "      <td>1</td>\n",
       "    </tr>\n",
       "    <tr>\n",
       "      <th>3</th>\n",
       "      <td>Wednesday</td>\n",
       "      <td>[21, 24)</td>\n",
       "      <td>0.197575</td>\n",
       "      <td>May</td>\n",
       "      <td>NORTHERN</td>\n",
       "      <td>0.322836</td>\n",
       "      <td>0.001778</td>\n",
       "      <td>0.043030</td>\n",
       "      <td>0.285361</td>\n",
       "      <td>0</td>\n",
       "    </tr>\n",
       "    <tr>\n",
       "      <th>4</th>\n",
       "      <td>Wednesday</td>\n",
       "      <td>[21, 24)</td>\n",
       "      <td>0.197575</td>\n",
       "      <td>May</td>\n",
       "      <td>PARK</td>\n",
       "      <td>0.176911</td>\n",
       "      <td>0.001217</td>\n",
       "      <td>0.037198</td>\n",
       "      <td>0.206148</td>\n",
       "      <td>0</td>\n",
       "    </tr>\n",
       "  </tbody>\n",
       "</table>\n",
       "</div>"
      ],
      "text/plain": [
       "   DayOfWeek HourOfDay      Week Month PdDistrict   ZipCode       Lat  \\\n",
       "0  Wednesday  [21, 24)  0.048297   May   NORTHERN  0.080916  0.001276   \n",
       "1  Wednesday  [21, 24)  0.138476   May   NORTHERN  0.166816  0.001276   \n",
       "2  Wednesday  [21, 24)  0.138476   May   NORTHERN  0.107591  0.001770   \n",
       "3  Wednesday  [21, 24)  0.197575   May   NORTHERN  0.322836  0.001778   \n",
       "4  Wednesday  [21, 24)  0.197575   May       PARK  0.176911  0.001217   \n",
       "\n",
       "        Lng   Address  IsIntersection  \n",
       "0  0.043578  0.068966               1  \n",
       "1  0.043578  0.241379               1  \n",
       "2  0.044337  0.315789               1  \n",
       "3  0.043030  0.285361               0  \n",
       "4  0.037198  0.206148               0  "
      ]
     },
     "execution_count": 11,
     "metadata": {},
     "output_type": "execute_result"
    }
   ],
   "source": [
    "train_features.head(5)"
   ]
  },
  {
   "cell_type": "code",
   "execution_count": 12,
   "metadata": {
    "collapsed": false
   },
   "outputs": [
    {
     "data": {
      "text/plain": [
       "(614628, 43)"
      ]
     },
     "execution_count": 12,
     "metadata": {},
     "output_type": "execute_result"
    }
   ],
   "source": [
    "d_train = train_features.T.to_dict().values()\n",
    "d_test = test_features.T.to_dict().values()\n",
    "\n",
    "vectorizer = DictVectorizer(sparse=True)\n",
    "\n",
    "X_train = vectorizer.fit_transform(d_train)\n",
    "X_test  = vectorizer.transform(d_test)\n",
    "\n",
    "X_train.shape\n",
    "##vectorizer.get_feature_names()"
   ]
  },
  {
   "cell_type": "code",
   "execution_count": 20,
   "metadata": {
    "collapsed": false
   },
   "outputs": [
    {
     "name": "stdout",
     "output_type": "stream",
     "text": [
      "Fitting 3 folds for each of 6 candidates, totalling 18 fits\n",
      "[CV] C=0.01 ..........................................................\n",
      "[CV] ................................................. C=0.01 -  18.5s\n",
      "[CV] C=0.01 ..........................................................\n",
      "[CV] ................................................. C=0.01 -  19.5s\n",
      "[CV] C=0.01 ..........................................................\n",
      "[CV] ................................................. C=0.01 -  18.8s\n",
      "[CV] C=0.1 ...........................................................\n",
      "[CV] .................................................. C=0.1 -  31.8s\n",
      "[CV] C=0.1 ...........................................................\n",
      "[CV] .................................................. C=0.1 -  29.3s\n",
      "[CV] C=0.1 ...........................................................\n",
      "[CV] .................................................. C=0.1 -  26.0s\n",
      "[CV] C=1.0 ...........................................................\n",
      "[CV] .................................................. C=1.0 -  39.7s\n",
      "[CV] C=1.0 ...........................................................\n",
      "[CV] .................................................. C=1.0 -  42.2s\n",
      "[CV] C=1.0 ...........................................................\n",
      "[CV] .................................................. C=1.0 -  36.2s\n",
      "[CV] C=10.0 ..........................................................\n",
      "[CV] ................................................. C=10.0 -  43.7s\n",
      "[CV] C=10.0 ..........................................................\n",
      "[CV] ................................................. C=10.0 -  39.8s\n",
      "[CV] C=10.0 ..........................................................\n",
      "[CV] ................................................. C=10.0 -  37.4s\n",
      "[CV] C=100.0 .........................................................\n",
      "[CV] ................................................ C=100.0 -  58.0s\n",
      "[CV] C=100.0 .........................................................\n",
      "[CV] ................................................ C=100.0 -  48.6s\n",
      "[CV] C=100.0 .........................................................\n",
      "[CV] ................................................ C=100.0 -  49.4s\n",
      "[CV] C=1000.0 ........................................................\n",
      "[CV] ............................................... C=1000.0 -  53.7s\n",
      "[CV] C=1000.0 ........................................................\n",
      "[CV] ............................................... C=1000.0 -  53.8s\n",
      "[CV] C=1000.0 ........................................................\n",
      "[CV] ............................................... C=1000.0 -  51.9s\n"
     ]
    },
    {
     "name": "stderr",
     "output_type": "stream",
     "text": [
      "[Parallel(n_jobs=1)]: Done  18 out of  18 | elapsed: 11.6min finished\n"
     ]
    },
    {
     "data": {
      "text/plain": [
       "GridSearchCV(cv=None, error_score='raise',\n",
       "       estimator=LogisticRegression(C=0.1, class_weight='balanced', dual=False,\n",
       "          fit_intercept=True, intercept_scaling=1, max_iter=1000,\n",
       "          multi_class='ovr', n_jobs=-1, penalty='l2', random_state=None,\n",
       "          solver='lbfgs', tol=0.0001, verbose=0, warm_start=False),\n",
       "       fit_params={}, iid=True, n_jobs=1,\n",
       "       param_grid={'C': [0.01, 0.1, 1.0, 10.0, 100.0, 1000.0]},\n",
       "       pre_dispatch='2*n_jobs', refit=True, scoring='log_loss', verbose=2)"
      ]
     },
     "execution_count": 20,
     "metadata": {},
     "output_type": "execute_result"
    }
   ],
   "source": [
    "rparams = dict(C=[0.01, 0.1, 1.0, 10.0, 100.0, 1000.0])\n",
    "\n",
    "lr = LogisticRegression(penalty='l2', C=0.1, max_iter=1000,\\\n",
    "                         multi_class='ovr', n_jobs=-1,\\\n",
    "                         solver='lbfgs', class_weight='balanced', verbose=0) # \n",
    "\n",
    "clf = GridSearchCV(lr, param_grid=rparams, scoring='log_loss', n_jobs=1, verbose=2)\n",
    "clf.fit(X_train, y_train)"
   ]
  },
  {
   "cell_type": "code",
   "execution_count": 21,
   "metadata": {
    "collapsed": false
   },
   "outputs": [
    {
     "name": "stdout",
     "output_type": "stream",
     "text": [
      "{'C': 1000.0}\n"
     ]
    }
   ],
   "source": [
    "print(clf.best_params_)"
   ]
  },
  {
   "cell_type": "code",
   "execution_count": 15,
   "metadata": {
    "collapsed": false
   },
   "outputs": [
    {
     "data": {
      "image/png": "[encoded data removed]",
      "text/plain": [
       "<matplotlib.figure.Figure at 0x1109edcc0>"
      ]
     },
     "metadata": {},
     "output_type": "display_data"
    }
   ],
   "source": [
    "cv_scores = np.zeros(6)\n",
    "c = np.zeros(6)\n",
    "\n",
    "rownum = 0\n",
    "for params, mean_score, scores in clf.grid_scores_:\n",
    "    c[rownum] = params['C']\n",
    "    cv_scores[rownum] = -1.0*mean_score\n",
    "    rownum = rownum + 1\n",
    "\n",
    "plt.plot(c, cv_scores, '-o')\n",
    "plt.xscale('log')\n",
    "\n",
    "\n",
    "#cv_df = pd.DataFrame(cv_scores, columns=['C', 'CV-Error'])\n",
    "#cv_df.plot(x='C', y='CV-Error', kind='line')\n",
    "#cv_df"
   ]
  },
  {
   "cell_type": "code",
   "execution_count": 22,
   "metadata": {
    "collapsed": false
   },
   "outputs": [
    {
     "name": "stdout",
     "output_type": "stream",
     "text": [
      "0.559947764225\n"
     ]
    }
   ],
   "source": [
    "predicted = clf.predict(X_test)\n",
    "expected = y_test\n",
    "print(accuracy_score(expected, predicted))"
   ]
  },
  {
   "cell_type": "code",
   "execution_count": 23,
   "metadata": {
    "collapsed": false
   },
   "outputs": [
    {
     "name": "stdout",
     "output_type": "stream",
     "text": [
      "1.6016088195\n"
     ]
    }
   ],
   "source": [
    "predicted_probs = clf.predict_proba(X_test)\n",
    "print(log_loss(y_test, predicted_probs))"
   ]
  },
  {
   "cell_type": "code",
   "execution_count": 24,
   "metadata": {
    "collapsed": false
   },
   "outputs": [],
   "source": [
    "cm = ConfusionMatrix(expected, predicted)\n",
    "cm_stats = cm.to_dataframe().apply(lambda x: x/sum(x), axis=1)\n",
    "cm_stats.to_csv('data/confusion_matrix_stats.csv')"
   ]
  },
  {
   "cell_type": "code",
   "execution_count": 25,
   "metadata": {
    "collapsed": false
   },
   "outputs": [
    {
     "data": {
      "text/plain": [
       "<matplotlib.axes._subplots.AxesSubplot at 0x12992d390>"
      ]
     },
     "execution_count": 25,
     "metadata": {},
     "output_type": "execute_result"
    },
    {
     "data": {
      "image/png": "[encoded data removed]",
      "text/plain": [
       "<matplotlib.figure.Figure at 0x111141eb8>"
      ]
     },
     "metadata": {},
     "output_type": "display_data"
    }
   ],
   "source": [
    "mpl.rcParams['figure.figsize'] = (10.0, 5.0)\n",
    "cm.plot(normalized=True)"
   ]
  },
  {
   "cell_type": "code",
   "execution_count": null,
   "metadata": {
    "collapsed": true
   },
   "outputs": [],
   "source": []
  }
 ],
 "metadata": {
  "kernelspec": {
   "display_name": "Python 3",
   "language": "python",
   "name": "python3"
  },
  "language_info": {
   "codemirror_mode": {
    "name": "ipython",
    "version": 3
   },
   "file_extension": ".py",
   "mimetype": "text/x-python",
   "name": "python",
   "nbconvert_exporter": "python",
   "pygments_lexer": "ipython3",
   "version": "3.5.1"
  }
 },
 "nbformat": 4,
 "nbformat_minor": 0
}
