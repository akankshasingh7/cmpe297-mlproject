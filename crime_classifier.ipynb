{
 "cells": [
  {
   "cell_type": "code",
   "execution_count": 27,
   "metadata": {
    "collapsed": true
   },
   "outputs": [],
   "source": [
    "import pandas as pd\n",
    "import numpy as np\n",
    "\n",
    "import matplotlib as mpl\n",
    "import matplotlib.pyplot as plt\n",
    "\n",
    "from sklearn.linear_model import LogisticRegression\n",
    "from sklearn.feature_extraction import DictVectorizer\n",
    "from sklearn.grid_search import GridSearchCV\n",
    "\n",
    "from sklearn.metrics import accuracy_score\n",
    "from sklearn.metrics import log_loss\n",
    "from pandas_confusion import ConfusionMatrix\n",
    "\n",
    "%matplotlib inline"
   ]
  },
  {
   "cell_type": "code",
   "execution_count": 51,
   "metadata": {
    "collapsed": true
   },
   "outputs": [],
   "source": [
    "## feature_names -- DayOfWeek,HourOfDay,Month,PdDistrict,ZipCode, Address, IsIntersection\n",
    "\n",
    "def HourOfDay(df):\n",
    "    ft = df.map(lambda x: x.hour)\n",
    "    feat = pd.cut(ft, bins = [0,3,6,9,12,15,18,21,24], right=False)\n",
    "    feat.name = 'HourOfDay'\n",
    "    return feat\n",
    "\n",
    "def Month(df):\n",
    "    feat = df.map(lambda x: x.strftime(\"%B\"))\n",
    "    feat.name = 'Month'\n",
    "    return feat\n",
    "\n",
    "def ZipCode(df):\n",
    "    count = df.groupby(['ZipCode']).size()\n",
    "    cat_count = df.groupby(['ZipCode', 'Target']).size()\n",
    "    odds = cat_count.div(count, level='ZipCode').reset_index()\n",
    "    odds.columns = ['ZipCode', 'Target', 'Odds']\n",
    "    dfm = df.merge(odds, how='left', on=['ZipCode', 'Target'])\n",
    "    \n",
    "    feat = dfm['Odds']\n",
    "    feat.name = 'ZipCode'\n",
    "    return feat\n",
    "\n",
    "def IsIntersection(df):\n",
    "    feat = df.apply(lambda x: 0 if x.find(\"/\") < 0 else 1)\n",
    "    feat.name = 'IsIntersection'\n",
    "    return feat\n",
    "\n",
    "def Lng(df):\n",
    "    minX, maxX = df.min(), df.max()\n",
    "    feat = df.apply(lambda x: (x-minX)/(maxX-minX))\n",
    "    feat.name = 'Lng'\n",
    "    return feat\n",
    "\n",
    "def Lat(df):\n",
    "    minY, maxY = df.min(), df.max()\n",
    "    feat = df.apply(lambda x: (x-minY)/(maxY-minY))\n",
    "    feat.name = 'Lat'\n",
    "    return feat\n",
    "\n",
    "def build_dataset(data):\n",
    "    data['Dates'] = pd.to_datetime(data['Dates'])\n",
    "\n",
    "    features = pd.DataFrame(index=data.index)\n",
    "    features = features.join(data['DayOfWeek'])\n",
    "    features = features.join(HourOfDay(data['Dates']))\n",
    "    features = features.join(Month(data['Dates']))\n",
    "    features = features.join(data['PdDistrict'])\n",
    "    features = features.join(ZipCode(data[['ZipCode','Target']]))\n",
    "    features = features.join(Lat(data['Y']))\n",
    "    features = features.join(Lng(data['X']))\n",
    "    features = features.join(IsIntersection(data['Address']))\n",
    "        \n",
    "    return features, data['Target']"
   ]
  },
  {
   "cell_type": "code",
   "execution_count": 52,
   "metadata": {
    "collapsed": false
   },
   "outputs": [],
   "source": [
    "train_data = pd.read_csv('data/train-A.csv', quotechar='\"')\n",
    "test_data  = pd.read_csv('data/train-B.csv', quotechar='\"')"
   ]
  },
  {
   "cell_type": "code",
   "execution_count": 53,
   "metadata": {
    "collapsed": false
   },
   "outputs": [],
   "source": [
    "train_features,y_train  = build_dataset(train_data)\n",
    "test_features,y_test    = build_dataset(test_data)"
   ]
  },
  {
   "cell_type": "code",
   "execution_count": 54,
   "metadata": {
    "collapsed": false
   },
   "outputs": [
    {
     "data": {
      "text/html": [
       "<div>\n",
       "<table border=\"1\" class=\"dataframe\">\n",
       "  <thead>\n",
       "    <tr style=\"text-align: right;\">\n",
       "      <th></th>\n",
       "      <th>DayOfWeek</th>\n",
       "      <th>HourOfDay</th>\n",
       "      <th>Month</th>\n",
       "      <th>PdDistrict</th>\n",
       "      <th>ZipCode</th>\n",
       "      <th>Lat</th>\n",
       "      <th>Lng</th>\n",
       "      <th>IsIntersection</th>\n",
       "    </tr>\n",
       "  </thead>\n",
       "  <tbody>\n",
       "    <tr>\n",
       "      <th>0</th>\n",
       "      <td>Wednesday</td>\n",
       "      <td>[21, 24)</td>\n",
       "      <td>May</td>\n",
       "      <td>NORTHERN</td>\n",
       "      <td>0.080916</td>\n",
       "      <td>0.001276</td>\n",
       "      <td>0.043578</td>\n",
       "      <td>1</td>\n",
       "    </tr>\n",
       "    <tr>\n",
       "      <th>1</th>\n",
       "      <td>Wednesday</td>\n",
       "      <td>[21, 24)</td>\n",
       "      <td>May</td>\n",
       "      <td>NORTHERN</td>\n",
       "      <td>0.166816</td>\n",
       "      <td>0.001276</td>\n",
       "      <td>0.043578</td>\n",
       "      <td>1</td>\n",
       "    </tr>\n",
       "    <tr>\n",
       "      <th>2</th>\n",
       "      <td>Wednesday</td>\n",
       "      <td>[21, 24)</td>\n",
       "      <td>May</td>\n",
       "      <td>NORTHERN</td>\n",
       "      <td>0.107591</td>\n",
       "      <td>0.001770</td>\n",
       "      <td>0.044337</td>\n",
       "      <td>1</td>\n",
       "    </tr>\n",
       "    <tr>\n",
       "      <th>3</th>\n",
       "      <td>Wednesday</td>\n",
       "      <td>[21, 24)</td>\n",
       "      <td>May</td>\n",
       "      <td>NORTHERN</td>\n",
       "      <td>0.322836</td>\n",
       "      <td>0.001778</td>\n",
       "      <td>0.043030</td>\n",
       "      <td>0</td>\n",
       "    </tr>\n",
       "    <tr>\n",
       "      <th>4</th>\n",
       "      <td>Wednesday</td>\n",
       "      <td>[21, 24)</td>\n",
       "      <td>May</td>\n",
       "      <td>PARK</td>\n",
       "      <td>0.176911</td>\n",
       "      <td>0.001217</td>\n",
       "      <td>0.037198</td>\n",
       "      <td>0</td>\n",
       "    </tr>\n",
       "  </tbody>\n",
       "</table>\n",
       "</div>"
      ],
      "text/plain": [
       "   DayOfWeek HourOfDay Month PdDistrict   ZipCode       Lat       Lng  \\\n",
       "0  Wednesday  [21, 24)   May   NORTHERN  0.080916  0.001276  0.043578   \n",
       "1  Wednesday  [21, 24)   May   NORTHERN  0.166816  0.001276  0.043578   \n",
       "2  Wednesday  [21, 24)   May   NORTHERN  0.107591  0.001770  0.044337   \n",
       "3  Wednesday  [21, 24)   May   NORTHERN  0.322836  0.001778  0.043030   \n",
       "4  Wednesday  [21, 24)   May       PARK  0.176911  0.001217  0.037198   \n",
       "\n",
       "   IsIntersection  \n",
       "0               1  \n",
       "1               1  \n",
       "2               1  \n",
       "3               0  \n",
       "4               0  "
      ]
     },
     "execution_count": 54,
     "metadata": {},
     "output_type": "execute_result"
    }
   ],
   "source": [
    "train_features.head(5)"
   ]
  },
  {
   "cell_type": "code",
   "execution_count": 55,
   "metadata": {
    "collapsed": false
   },
   "outputs": [
    {
     "data": {
      "text/plain": [
       "(614628, 41)"
      ]
     },
     "execution_count": 55,
     "metadata": {},
     "output_type": "execute_result"
    }
   ],
   "source": [
    "d_train = train_features.T.to_dict().values()\n",
    "d_test = test_features.T.to_dict().values()\n",
    "\n",
    "vectorizer = DictVectorizer(sparse=True)\n",
    "\n",
    "X_train = vectorizer.fit_transform(d_train)\n",
    "X_test  = vectorizer.transform(d_test)\n",
    "\n",
    "X_train.shape"
   ]
  },
  {
   "cell_type": "code",
   "execution_count": 62,
   "metadata": {
    "collapsed": false
   },
   "outputs": [],
   "source": [
    "##vectorizer.get_feature_names()"
   ]
  },
  {
   "cell_type": "code",
   "execution_count": 63,
   "metadata": {
    "collapsed": false
   },
   "outputs": [
    {
     "name": "stdout",
     "output_type": "stream",
     "text": [
      "Fitting 3 folds for each of 8 candidates, totalling 24 fits\n",
      "[CV] C=0.1 ...........................................................\n",
      "[CV] .................................................. C=0.1 -  21.4s\n",
      "[CV] C=0.1 ...........................................................\n",
      "[CV] .................................................. C=0.1 -  21.4s\n",
      "[CV] C=0.1 ...........................................................\n",
      "[CV] .................................................. C=0.1 -  20.4s\n",
      "[CV] C=1.0 ...........................................................\n",
      "[CV] .................................................. C=1.0 -  22.5s\n",
      "[CV] C=1.0 ...........................................................\n",
      "[CV] .................................................. C=1.0 -  20.1s\n",
      "[CV] C=1.0 ...........................................................\n",
      "[CV] .................................................. C=1.0 -  19.9s\n",
      "[CV] C=10.0 ..........................................................\n",
      "[CV] ................................................. C=10.0 -  21.7s\n",
      "[CV] C=10.0 ..........................................................\n",
      "[CV] ................................................. C=10.0 -  21.7s\n",
      "[CV] C=10.0 ..........................................................\n",
      "[CV] ................................................. C=10.0 -  20.7s\n",
      "[CV] C=100.0 .........................................................\n",
      "[CV] ................................................ C=100.0 -  22.5s\n",
      "[CV] C=100.0 .........................................................\n",
      "[CV] ................................................ C=100.0 -  23.0s\n",
      "[CV] C=100.0 .........................................................\n",
      "[CV] ................................................ C=100.0 -  21.9s\n",
      "[CV] C=1000.0 ........................................................\n",
      "[CV] ............................................... C=1000.0 -  23.2s\n",
      "[CV] C=1000.0 ........................................................\n",
      "[CV] ............................................... C=1000.0 -  24.2s\n",
      "[CV] C=1000.0 ........................................................\n",
      "[CV] ............................................... C=1000.0 -  24.6s\n",
      "[CV] C=10000.0 .......................................................\n",
      "[CV] .............................................. C=10000.0 -  28.2s\n",
      "[CV] C=10000.0 .......................................................\n",
      "[CV] .............................................. C=10000.0 -  23.1s\n",
      "[CV] C=10000.0 .......................................................\n",
      "[CV] .............................................. C=10000.0 -  26.4s\n",
      "[CV] C=100000.0 ......................................................\n",
      "[CV] ............................................. C=100000.0 -  25.9s\n",
      "[CV] C=100000.0 ......................................................\n",
      "[CV] ............................................. C=100000.0 -  24.4s\n",
      "[CV] C=100000.0 ......................................................\n",
      "[CV] ............................................. C=100000.0 -  25.2s\n",
      "[CV] C=1000000.0 .....................................................\n",
      "[CV] ............................................ C=1000000.0 -  24.0s\n",
      "[CV] C=1000000.0 .....................................................\n",
      "[CV] ............................................ C=1000000.0 -  24.1s\n",
      "[CV] C=1000000.0 .....................................................\n",
      "[CV] ............................................ C=1000000.0 -  24.7s\n"
     ]
    },
    {
     "name": "stderr",
     "output_type": "stream",
     "text": [
      "[Parallel(n_jobs=1)]: Done  24 out of  24 | elapsed:  9.3min finished\n"
     ]
    },
    {
     "data": {
      "text/plain": [
       "GridSearchCV(cv=None, error_score='raise',\n",
       "       estimator=LogisticRegression(C=1000.0, class_weight='balanced', dual=False,\n",
       "          fit_intercept=True, intercept_scaling=1, max_iter=1000,\n",
       "          multi_class='ovr', n_jobs=-1, penalty='l2', random_state=None,\n",
       "          solver='lbfgs', tol=0.0001, verbose=0, warm_start=False),\n",
       "       fit_params={}, iid=True, n_jobs=1,\n",
       "       param_grid={'C': [0.1, 1.0, 10.0, 100.0, 1000.0, 10000.0, 100000.0, 1000000.0]},\n",
       "       pre_dispatch='2*n_jobs', refit=True, scoring='log_loss', verbose=2)"
      ]
     },
     "execution_count": 63,
     "metadata": {},
     "output_type": "execute_result"
    }
   ],
   "source": [
    "rparams = dict(C=[0.1, 1.0, 10.0, 1.0e2, 1.0e3, 1.0e4, 1.0e5, 1.0e6])\n",
    "\n",
    "lr = LogisticRegression(penalty='l2', C=1.0e3, max_iter=1000,\\\n",
    "                         multi_class='ovr', n_jobs=-1,\\\n",
    "                         solver='lbfgs', class_weight='balanced', verbose=0) # \n",
    "\n",
    "clf = GridSearchCV(lr, param_grid=rparams, scoring='log_loss', n_jobs=1, verbose=2)\n",
    "clf.fit(X_train, y_train)"
   ]
  },
  {
   "cell_type": "code",
   "execution_count": 64,
   "metadata": {
    "collapsed": false
   },
   "outputs": [
    {
     "name": "stdout",
     "output_type": "stream",
     "text": [
      "{'C': 1000000.0}\n"
     ]
    }
   ],
   "source": [
    "print(clf.best_params_)"
   ]
  },
  {
   "cell_type": "code",
   "execution_count": 65,
   "metadata": {
    "collapsed": false
   },
   "outputs": [
    {
     "data": {
      "image/png": "[encoded data removed]",
      "text/plain": [
       "<matplotlib.figure.Figure at 0x1539a1438>"
      ]
     },
     "metadata": {},
     "output_type": "display_data"
    }
   ],
   "source": [
    "cv_scores = np.zeros(8)\n",
    "c = np.zeros(8)\n",
    "\n",
    "rownum = 0\n",
    "for params, mean_score, scores in clf.grid_scores_:\n",
    "    c[rownum] = params['C']\n",
    "    cv_scores[rownum] = -1.0*mean_score\n",
    "    rownum = rownum + 1\n",
    "\n",
    "plt.plot(c, cv_scores, '-o')\n",
    "plt.xscale('log')"
   ]
  },
  {
   "cell_type": "code",
   "execution_count": 70,
   "metadata": {
    "collapsed": false
   },
   "outputs": [
    {
     "name": "stdout",
     "output_type": "stream",
     "text": [
      "0.367510562939\n"
     ]
    }
   ],
   "source": [
    "predicted = clf.predict(X_test)\n",
    "expected = y_test\n",
    "print(accuracy_score(expected, predicted))"
   ]
  },
  {
   "cell_type": "code",
   "execution_count": 71,
   "metadata": {
    "collapsed": false
   },
   "outputs": [
    {
     "name": "stdout",
     "output_type": "stream",
     "text": [
      "1.90905750343\n"
     ]
    }
   ],
   "source": [
    "predicted_probs = clf.predict_proba(X_test)\n",
    "print(log_loss(y_test, predicted_probs))"
   ]
  },
  {
   "cell_type": "code",
   "execution_count": 72,
   "metadata": {
    "collapsed": false
   },
   "outputs": [],
   "source": [
    "cm = ConfusionMatrix(expected, predicted)\n",
    "cm_stats = cm.to_dataframe().apply(lambda x: x/sum(x), axis=1)\n",
    "cm_stats.to_csv('data/confusion_matrix_stats.csv')"
   ]
  },
  {
   "cell_type": "code",
   "execution_count": 73,
   "metadata": {
    "collapsed": false
   },
   "outputs": [
    {
     "data": {
      "text/plain": [
       "<matplotlib.axes._subplots.AxesSubplot at 0x192b71978>"
      ]
     },
     "execution_count": 73,
     "metadata": {},
     "output_type": "execute_result"
    },
    {
     "data": {
      "image/png": "[encoded data removed]",
      "text/plain": [
       "<matplotlib.figure.Figure at 0x166257048>"
      ]
     },
     "metadata": {},
     "output_type": "display_data"
    }
   ],
   "source": [
    "mpl.rcParams['figure.figsize'] = (10.0, 5.0)\n",
    "cm.plot(normalized=True)"
   ]
  },
  {
   "cell_type": "code",
   "execution_count": null,
   "metadata": {
    "collapsed": true
   },
   "outputs": [],
   "source": []
  }
 ],
 "metadata": {
  "kernelspec": {
   "display_name": "Python 3",
   "language": "python",
   "name": "python3"
  },
  "language_info": {
   "codemirror_mode": {
    "name": "ipython",
    "version": 3
   },
   "file_extension": ".py",
   "mimetype": "text/x-python",
   "name": "python",
   "nbconvert_exporter": "python",
   "pygments_lexer": "ipython3",
   "version": "3.5.1"
  }
 },
 "nbformat": 4,
 "nbformat_minor": 0
}
