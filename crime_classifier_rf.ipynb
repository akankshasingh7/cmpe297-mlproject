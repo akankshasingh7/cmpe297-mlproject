{
 "cells": [
  {
   "cell_type": "code",
   "execution_count": 12,
   "metadata": {
    "collapsed": true
   },
   "outputs": [],
   "source": [
    "import pandas as pd\n",
    "import numpy as np\n",
    "\n",
    "import matplotlib as mpl\n",
    "import matplotlib.pyplot as plt\n",
    "\n",
    "from sklearn.linear_model import LogisticRegression\n",
    "from sklearn.ensemble import RandomForestClassifier\n",
    "from sklearn.feature_extraction import DictVectorizer\n",
    "from sklearn.grid_search import GridSearchCV\n",
    "\n",
    "from sklearn.metrics import accuracy_score\n",
    "from sklearn.metrics import log_loss\n",
    "from pandas_confusion import ConfusionMatrix\n",
    "\n",
    "%matplotlib inline"
   ]
  },
  {
   "cell_type": "code",
   "execution_count": 2,
   "metadata": {
    "collapsed": true
   },
   "outputs": [],
   "source": [
    "def HourOfDay(df):\n",
    "    ft = df.map(lambda x: x.hour)\n",
    "    feat = pd.cut(ft, bins = [0,3,6,9,12,15,18,21,24], right=False)\n",
    "    feat.name = 'HourOfDay'\n",
    "    return feat\n",
    "\n",
    "def Month(df):\n",
    "    feat = df.map(lambda x: x.strftime(\"%B\"))\n",
    "    feat.name = 'Month'\n",
    "    return feat\n",
    "\n",
    "def Week(df):\n",
    "    feat = df.apply(lambda x: 'W'+str(x.isocalendar()[1]))\n",
    "    feat.name = 'Week'\n",
    "    return feat\n",
    "\n",
    "def ZipCode(df): \n",
    "    feat = df.apply(lambda x: 'Z'+str(x))\n",
    "    feat.name = 'ZipCode'\n",
    "    return feat\n",
    "\n",
    "def IsIntersection(df):\n",
    "    feat = df.apply(lambda x: 0 if x.find(\"/\") < 0 else 1)\n",
    "    feat.name = 'IsIntersection'\n",
    "    return feat\n",
    "\n",
    "def Lng(df):\n",
    "    minX, maxX = df.min(), df.max()\n",
    "    feat = df.apply(lambda x: (x-minX)/(maxX-minX))\n",
    "    feat.name = 'Lng'\n",
    "    return feat\n",
    "\n",
    "def Lat(df):\n",
    "    minY, maxY = df.min(), df.max()\n",
    "    feat = df.apply(lambda x: (x-minY)/(maxY-minY))\n",
    "    feat.name = 'Lat'\n",
    "    return feat\n",
    "\n",
    "def build_dataset(data, n=14):\n",
    "    data['Dates'] = pd.to_datetime(data['Dates'])\n",
    "    if 'Category' in data.columns:\n",
    "        topcats = data['Category'].value_counts().index.tolist()[n:]\n",
    "        data['Target'] = data['Category']\n",
    "        data.loc[data['Target'].isin(topcats), 'Target'] = 'OTHER CRIMES'\n",
    "\n",
    "    features = pd.DataFrame(index=data.index)\n",
    "    features = features.join(data['DayOfWeek'])\n",
    "    features = features.join(HourOfDay(data['Dates']))\n",
    "    features = features.join(Month(data['Dates']))\n",
    "    features = features.join(data['PdDistrict'])\n",
    "    features = features.join(ZipCode(data['ZipCode']))\n",
    "    features = features.join(Lat(data['Y']))\n",
    "    features = features.join(Lng(data['X']))\n",
    "    features = features.join(IsIntersection(data['Address']))\n",
    "    features = features.join(Week(data['Dates']))\n",
    "        \n",
    "    return features, data['Target'] if 'Target' in data.columns else None"
   ]
  },
  {
   "cell_type": "code",
   "execution_count": 4,
   "metadata": {
    "collapsed": false
   },
   "outputs": [],
   "source": [
    "train_data = pd.read_csv('data/train-A.csv', quotechar='\"')\n",
    "test_data  = pd.read_csv('data/train-B.csv', quotechar='\"')"
   ]
  },
  {
   "cell_type": "code",
   "execution_count": 5,
   "metadata": {
    "collapsed": false
   },
   "outputs": [],
   "source": [
    "train_features,y_train  = build_dataset(train_data)\n",
    "test_features,y_test    = build_dataset(test_data)"
   ]
  },
  {
   "cell_type": "code",
   "execution_count": 6,
   "metadata": {
    "collapsed": false
   },
   "outputs": [
    {
     "data": {
      "text/plain": [
       "LARCENY/THEFT             0.199250\n",
       "OTHER OFFENSES            0.143645\n",
       "NON-CRIMINAL              0.105421\n",
       "ASSAULT                   0.087235\n",
       "OTHER CRIMES              0.078167\n",
       "DRUG/NARCOTIC             0.061395\n",
       "VEHICLE THEFT             0.061260\n",
       "VANDALISM                 0.050976\n",
       "WARRANTS                  0.048187\n",
       "BURGLARY                  0.041719\n",
       "SUSPICIOUS OCC            0.035689\n",
       "MISSING PERSON            0.029731\n",
       "ROBBERY                   0.026314\n",
       "FRAUD                     0.018965\n",
       "FORGERY/COUNTERFEITING    0.012047\n",
       "Name: Target, dtype: float64"
      ]
     },
     "execution_count": 6,
     "metadata": {},
     "output_type": "execute_result"
    }
   ],
   "source": [
    "y_train.value_counts()/sum(y_train.value_counts())"
   ]
  },
  {
   "cell_type": "code",
   "execution_count": 7,
   "metadata": {
    "collapsed": false
   },
   "outputs": [
    {
     "data": {
      "text/html": [
       "<div>\n",
       "<table border=\"1\" class=\"dataframe\">\n",
       "  <thead>\n",
       "    <tr style=\"text-align: right;\">\n",
       "      <th></th>\n",
       "      <th>DayOfWeek</th>\n",
       "      <th>HourOfDay</th>\n",
       "      <th>Month</th>\n",
       "      <th>PdDistrict</th>\n",
       "      <th>ZipCode</th>\n",
       "      <th>Lat</th>\n",
       "      <th>Lng</th>\n",
       "      <th>IsIntersection</th>\n",
       "      <th>Week</th>\n",
       "    </tr>\n",
       "  </thead>\n",
       "  <tbody>\n",
       "    <tr>\n",
       "      <th>0</th>\n",
       "      <td>Wednesday</td>\n",
       "      <td>[21, 24)</td>\n",
       "      <td>May</td>\n",
       "      <td>NORTHERN</td>\n",
       "      <td>Z94102</td>\n",
       "      <td>0.001276</td>\n",
       "      <td>0.043578</td>\n",
       "      <td>1</td>\n",
       "      <td>W20</td>\n",
       "    </tr>\n",
       "    <tr>\n",
       "      <th>1</th>\n",
       "      <td>Wednesday</td>\n",
       "      <td>[21, 24)</td>\n",
       "      <td>May</td>\n",
       "      <td>NORTHERN</td>\n",
       "      <td>Z94102</td>\n",
       "      <td>0.001276</td>\n",
       "      <td>0.043578</td>\n",
       "      <td>1</td>\n",
       "      <td>W20</td>\n",
       "    </tr>\n",
       "    <tr>\n",
       "      <th>2</th>\n",
       "      <td>Wednesday</td>\n",
       "      <td>[21, 24)</td>\n",
       "      <td>May</td>\n",
       "      <td>NORTHERN</td>\n",
       "      <td>Z94123</td>\n",
       "      <td>0.001778</td>\n",
       "      <td>0.043030</td>\n",
       "      <td>0</td>\n",
       "      <td>W20</td>\n",
       "    </tr>\n",
       "    <tr>\n",
       "      <th>3</th>\n",
       "      <td>Wednesday</td>\n",
       "      <td>[21, 24)</td>\n",
       "      <td>May</td>\n",
       "      <td>PARK</td>\n",
       "      <td>Z94117</td>\n",
       "      <td>0.001217</td>\n",
       "      <td>0.037198</td>\n",
       "      <td>0</td>\n",
       "      <td>W20</td>\n",
       "    </tr>\n",
       "    <tr>\n",
       "      <th>4</th>\n",
       "      <td>Wednesday</td>\n",
       "      <td>[21, 24)</td>\n",
       "      <td>May</td>\n",
       "      <td>INGLESIDE</td>\n",
       "      <td>Z94134</td>\n",
       "      <td>0.000330</td>\n",
       "      <td>0.044852</td>\n",
       "      <td>1</td>\n",
       "      <td>W20</td>\n",
       "    </tr>\n",
       "  </tbody>\n",
       "</table>\n",
       "</div>"
      ],
      "text/plain": [
       "   DayOfWeek HourOfDay Month PdDistrict ZipCode       Lat       Lng  \\\n",
       "0  Wednesday  [21, 24)   May   NORTHERN  Z94102  0.001276  0.043578   \n",
       "1  Wednesday  [21, 24)   May   NORTHERN  Z94102  0.001276  0.043578   \n",
       "2  Wednesday  [21, 24)   May   NORTHERN  Z94123  0.001778  0.043030   \n",
       "3  Wednesday  [21, 24)   May       PARK  Z94117  0.001217  0.037198   \n",
       "4  Wednesday  [21, 24)   May  INGLESIDE  Z94134  0.000330  0.044852   \n",
       "\n",
       "   IsIntersection Week  \n",
       "0               1  W20  \n",
       "1               1  W20  \n",
       "2               0  W20  \n",
       "3               0  W20  \n",
       "4               1  W20  "
      ]
     },
     "execution_count": 7,
     "metadata": {},
     "output_type": "execute_result"
    }
   ],
   "source": [
    "train_features.head(5)"
   ]
  },
  {
   "cell_type": "code",
   "execution_count": 8,
   "metadata": {
    "collapsed": false
   },
   "outputs": [
    {
     "data": {
      "text/plain": [
       "(613862, 9)"
      ]
     },
     "execution_count": 8,
     "metadata": {},
     "output_type": "execute_result"
    }
   ],
   "source": [
    "train_features.shape"
   ]
  },
  {
   "cell_type": "code",
   "execution_count": 9,
   "metadata": {
    "collapsed": false
   },
   "outputs": [
    {
     "data": {
      "text/plain": [
       "(613862, 93)"
      ]
     },
     "execution_count": 9,
     "metadata": {},
     "output_type": "execute_result"
    }
   ],
   "source": [
    "d_train = train_features.T.to_dict().values()\n",
    "d_test = test_features.T.to_dict().values()\n",
    "\n",
    "vectorizer = DictVectorizer(sparse=True)\n",
    "\n",
    "X_train = vectorizer.fit_transform(d_train)\n",
    "X_test  = vectorizer.transform(d_test)\n",
    "\n",
    "X_train.shape"
   ]
  },
  {
   "cell_type": "code",
   "execution_count": 10,
   "metadata": {
    "collapsed": false
   },
   "outputs": [
    {
     "data": {
      "text/plain": [
       "['DayOfWeek=Friday',\n",
       " 'DayOfWeek=Monday',\n",
       " 'DayOfWeek=Saturday',\n",
       " 'DayOfWeek=Sunday',\n",
       " 'DayOfWeek=Thursday',\n",
       " 'DayOfWeek=Tuesday',\n",
       " 'DayOfWeek=Wednesday',\n",
       " 'HourOfDay=[0, 3)',\n",
       " 'HourOfDay=[12, 15)',\n",
       " 'HourOfDay=[15, 18)',\n",
       " 'HourOfDay=[18, 21)',\n",
       " 'HourOfDay=[21, 24)',\n",
       " 'HourOfDay=[3, 6)',\n",
       " 'HourOfDay=[6, 9)',\n",
       " 'HourOfDay=[9, 12)',\n",
       " 'IsIntersection',\n",
       " 'Lat',\n",
       " 'Lng',\n",
       " 'Month=April',\n",
       " 'Month=August',\n",
       " 'Month=December',\n",
       " 'Month=February',\n",
       " 'Month=January',\n",
       " 'Month=July',\n",
       " 'Month=June',\n",
       " 'Month=March',\n",
       " 'Month=May',\n",
       " 'Month=November',\n",
       " 'Month=October',\n",
       " 'Month=September',\n",
       " 'PdDistrict=BAYVIEW',\n",
       " 'PdDistrict=CENTRAL',\n",
       " 'PdDistrict=INGLESIDE',\n",
       " 'PdDistrict=MISSION',\n",
       " 'PdDistrict=NORTHERN',\n",
       " 'PdDistrict=PARK',\n",
       " 'PdDistrict=RICHMOND',\n",
       " 'PdDistrict=SOUTHERN',\n",
       " 'PdDistrict=TARAVAL',\n",
       " 'PdDistrict=TENDERLOIN',\n",
       " 'Week=W10',\n",
       " 'Week=W12',\n",
       " 'Week=W14',\n",
       " 'Week=W16',\n",
       " 'Week=W18',\n",
       " 'Week=W2',\n",
       " 'Week=W20',\n",
       " 'Week=W22',\n",
       " 'Week=W24',\n",
       " 'Week=W26',\n",
       " 'Week=W28',\n",
       " 'Week=W30',\n",
       " 'Week=W32',\n",
       " 'Week=W34',\n",
       " 'Week=W36',\n",
       " 'Week=W38',\n",
       " 'Week=W4',\n",
       " 'Week=W40',\n",
       " 'Week=W42',\n",
       " 'Week=W44',\n",
       " 'Week=W46',\n",
       " 'Week=W48',\n",
       " 'Week=W50',\n",
       " 'Week=W52',\n",
       " 'Week=W6',\n",
       " 'Week=W8',\n",
       " 'ZipCode=Z94102',\n",
       " 'ZipCode=Z94103',\n",
       " 'ZipCode=Z94104',\n",
       " 'ZipCode=Z94105',\n",
       " 'ZipCode=Z94107',\n",
       " 'ZipCode=Z94108',\n",
       " 'ZipCode=Z94109',\n",
       " 'ZipCode=Z94110',\n",
       " 'ZipCode=Z94111',\n",
       " 'ZipCode=Z94112',\n",
       " 'ZipCode=Z94114',\n",
       " 'ZipCode=Z94115',\n",
       " 'ZipCode=Z94116',\n",
       " 'ZipCode=Z94117',\n",
       " 'ZipCode=Z94118',\n",
       " 'ZipCode=Z94121',\n",
       " 'ZipCode=Z94122',\n",
       " 'ZipCode=Z94123',\n",
       " 'ZipCode=Z94124',\n",
       " 'ZipCode=Z94127',\n",
       " 'ZipCode=Z94129',\n",
       " 'ZipCode=Z94130',\n",
       " 'ZipCode=Z94131',\n",
       " 'ZipCode=Z94132',\n",
       " 'ZipCode=Z94133',\n",
       " 'ZipCode=Z94134',\n",
       " 'ZipCode=Z94143']"
      ]
     },
     "execution_count": 10,
     "metadata": {},
     "output_type": "execute_result"
    }
   ],
   "source": [
    "vectorizer.get_feature_names()"
   ]
  },
  {
   "cell_type": "code",
   "execution_count": 18,
   "metadata": {
    "collapsed": false
   },
   "outputs": [
    {
     "name": "stderr",
     "output_type": "stream",
     "text": [
      "[Parallel(n_jobs=-1)]: Done  42 tasks      | elapsed:   50.4s\n",
      "[Parallel(n_jobs=-1)]: Done  50 out of  50 | elapsed:   58.2s finished\n"
     ]
    },
    {
     "data": {
      "text/plain": [
       "RandomForestClassifier(bootstrap=True, class_weight='balanced',\n",
       "            criterion='gini', max_depth=10, max_features=20,\n",
       "            max_leaf_nodes=None, min_samples_leaf=5, min_samples_split=2,\n",
       "            min_weight_fraction_leaf=0.0, n_estimators=50, n_jobs=-1,\n",
       "            oob_score=False, random_state=None, verbose=1,\n",
       "            warm_start=False)"
      ]
     },
     "execution_count": 18,
     "metadata": {},
     "output_type": "execute_result"
    }
   ],
   "source": [
    "clf = RandomForestClassifier(n_estimators=50, max_features=20,\\\n",
    "                             max_depth=10, min_samples_leaf=5, n_jobs=-1, class_weight='balanced', verbose=1) \n",
    "clf.fit(X_train, y_train)"
   ]
  },
  {
   "cell_type": "code",
   "execution_count": 19,
   "metadata": {
    "collapsed": false
   },
   "outputs": [
    {
     "name": "stderr",
     "output_type": "stream",
     "text": [
      "[Parallel(n_jobs=4)]: Done  42 tasks      | elapsed:    0.9s\n",
      "[Parallel(n_jobs=4)]: Done  50 out of  50 | elapsed:    1.1s finished\n"
     ]
    },
    {
     "name": "stdout",
     "output_type": "stream",
     "text": [
      "0.173274990821\n"
     ]
    }
   ],
   "source": [
    "predicted = clf.predict(X_test)\n",
    "expected = y_test\n",
    "print(accuracy_score(expected, predicted))"
   ]
  },
  {
   "cell_type": "code",
   "execution_count": 20,
   "metadata": {
    "collapsed": false
   },
   "outputs": [
    {
     "name": "stderr",
     "output_type": "stream",
     "text": [
      "[Parallel(n_jobs=4)]: Done  42 tasks      | elapsed:    1.0s\n",
      "[Parallel(n_jobs=4)]: Done  50 out of  50 | elapsed:    1.2s finished\n"
     ]
    },
    {
     "name": "stdout",
     "output_type": "stream",
     "text": [
      "2.50947392128\n"
     ]
    }
   ],
   "source": [
    "predicted_probs = clf.predict_proba(X_test)\n",
    "print(log_loss(y_test, predicted_probs))"
   ]
  },
  {
   "cell_type": "code",
   "execution_count": 21,
   "metadata": {
    "collapsed": false
   },
   "outputs": [],
   "source": [
    "cm = ConfusionMatrix(expected, predicted)\n",
    "cm_stats = cm.to_dataframe().apply(lambda x: x/sum(x), axis=1)\n",
    "cm_stats.to_csv('data/confusion_matrix_stats.csv')"
   ]
  },
  {
   "cell_type": "code",
   "execution_count": 22,
   "metadata": {
    "collapsed": false
   },
   "outputs": [
    {
     "data": {
      "text/plain": [
       "<matplotlib.axes._subplots.AxesSubplot at 0x12da88da0>"
      ]
     },
     "execution_count": 22,
     "metadata": {},
     "output_type": "execute_result"
    },
    {
     "data": {
      "image/png": "[encoded data removed]",
      "text/plain": [
       "<matplotlib.figure.Figure at 0x12e592ef0>"
      ]
     },
     "metadata": {},
     "output_type": "display_data"
    }
   ],
   "source": [
    "mpl.rcParams['figure.figsize'] = (10.0, 5.0)\n",
    "cm.plot(normalized=True)"
   ]
  },
  {
   "cell_type": "code",
   "execution_count": null,
   "metadata": {
    "collapsed": true
   },
   "outputs": [],
   "source": []
  }
 ],
 "metadata": {
  "kernelspec": {
   "display_name": "Python 3",
   "language": "python",
   "name": "python3"
  },
  "language_info": {
   "codemirror_mode": {
    "name": "ipython",
    "version": 3
   },
   "file_extension": ".py",
   "mimetype": "text/x-python",
   "name": "python",
   "nbconvert_exporter": "python",
   "pygments_lexer": "ipython3",
   "version": "3.5.1"
  },
  "widgets": {
   "state": {},
   "version": "1.0.0"
  }
 },
 "nbformat": 4,
 "nbformat_minor": 0
}
